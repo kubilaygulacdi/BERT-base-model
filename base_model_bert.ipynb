{
 "cells": [
  {
   "cell_type": "code",
   "execution_count": 2,
   "id": "372c0671",
   "metadata": {},
   "outputs": [
    {
     "name": "stdout",
     "output_type": "stream",
     "text": [
      "Collecting tensorflow_hub\n",
      "  Downloading tensorflow_hub-0.14.0-py2.py3-none-any.whl (90 kB)\n",
      "     -------------------------------------- 90.3/90.3 kB 851.3 kB/s eta 0:00:00\n",
      "Requirement already satisfied: protobuf>=3.19.6 in c:\\users\\k\\anaconda3\\lib\\site-packages (from tensorflow_hub) (3.20.3)\n",
      "Requirement already satisfied: numpy>=1.12.0 in c:\\users\\k\\anaconda3\\lib\\site-packages (from tensorflow_hub) (1.23.5)\n",
      "Installing collected packages: tensorflow_hub\n",
      "Successfully installed tensorflow_hub-0.14.0\n",
      "Collecting tensorflow_text\n",
      "  Downloading tensorflow_text-2.10.0-cp310-cp310-win_amd64.whl (5.0 MB)\n",
      "     ---------------------------------------- 5.0/5.0 MB 4.2 MB/s eta 0:00:00\n",
      "Requirement already satisfied: tensorflow<2.11,>=2.10.0 in c:\\users\\k\\anaconda3\\lib\\site-packages (from tensorflow_text) (2.10.0)\n",
      "Requirement already satisfied: tensorflow-hub>=0.8.0 in c:\\users\\k\\anaconda3\\lib\\site-packages (from tensorflow_text) (0.14.0)\n",
      "Requirement already satisfied: keras-preprocessing>=1.1.1 in c:\\users\\k\\anaconda3\\lib\\site-packages (from tensorflow<2.11,>=2.10.0->tensorflow_text) (1.1.2)\n",
      "Collecting libclang>=13.0.0\n",
      "  Downloading libclang-16.0.6-py2.py3-none-win_amd64.whl (24.4 MB)\n",
      "     ---------------------------------------- 24.4/24.4 MB 5.5 MB/s eta 0:00:00\n",
      "Requirement already satisfied: packaging in c:\\users\\k\\anaconda3\\lib\\site-packages (from tensorflow<2.11,>=2.10.0->tensorflow_text) (23.1)\n",
      "Requirement already satisfied: gast<=0.4.0,>=0.2.1 in c:\\users\\k\\anaconda3\\lib\\site-packages (from tensorflow<2.11,>=2.10.0->tensorflow_text) (0.4.0)\n",
      "Requirement already satisfied: wrapt>=1.11.0 in c:\\users\\k\\anaconda3\\lib\\site-packages (from tensorflow<2.11,>=2.10.0->tensorflow_text) (1.14.1)\n",
      "Requirement already satisfied: flatbuffers>=2.0 in c:\\users\\k\\anaconda3\\lib\\site-packages (from tensorflow<2.11,>=2.10.0->tensorflow_text) (2.0)\n",
      "Requirement already satisfied: setuptools in c:\\users\\k\\anaconda3\\lib\\site-packages (from tensorflow<2.11,>=2.10.0->tensorflow_text) (65.6.3)\n",
      "Requirement already satisfied: termcolor>=1.1.0 in c:\\users\\k\\anaconda3\\lib\\site-packages (from tensorflow<2.11,>=2.10.0->tensorflow_text) (2.1.0)\n",
      "Requirement already satisfied: tensorboard<2.11,>=2.10 in c:\\users\\k\\anaconda3\\lib\\site-packages (from tensorflow<2.11,>=2.10.0->tensorflow_text) (2.10.0)\n",
      "Requirement already satisfied: tensorflow-estimator<2.11,>=2.10.0 in c:\\users\\k\\anaconda3\\lib\\site-packages (from tensorflow<2.11,>=2.10.0->tensorflow_text) (2.10.0)\n",
      "Requirement already satisfied: google-pasta>=0.1.1 in c:\\users\\k\\anaconda3\\lib\\site-packages (from tensorflow<2.11,>=2.10.0->tensorflow_text) (0.2.0)\n",
      "Requirement already satisfied: absl-py>=1.0.0 in c:\\users\\k\\anaconda3\\lib\\site-packages (from tensorflow<2.11,>=2.10.0->tensorflow_text) (1.3.0)\n",
      "Requirement already satisfied: opt-einsum>=2.3.2 in c:\\users\\k\\anaconda3\\lib\\site-packages (from tensorflow<2.11,>=2.10.0->tensorflow_text) (3.3.0)\n",
      "Collecting tensorflow-io-gcs-filesystem>=0.23.1\n",
      "  Downloading tensorflow_io_gcs_filesystem-0.31.0-cp310-cp310-win_amd64.whl (1.5 MB)\n",
      "     ---------------------------------------- 1.5/1.5 MB 5.9 MB/s eta 0:00:00\n",
      "Requirement already satisfied: astunparse>=1.6.0 in c:\\users\\k\\anaconda3\\lib\\site-packages (from tensorflow<2.11,>=2.10.0->tensorflow_text) (1.6.3)\n",
      "Requirement already satisfied: six>=1.12.0 in c:\\users\\k\\anaconda3\\lib\\site-packages (from tensorflow<2.11,>=2.10.0->tensorflow_text) (1.16.0)\n",
      "Requirement already satisfied: typing-extensions>=3.6.6 in c:\\users\\k\\anaconda3\\lib\\site-packages (from tensorflow<2.11,>=2.10.0->tensorflow_text) (4.7.1)\n",
      "Collecting protobuf<3.20,>=3.9.2\n",
      "  Downloading protobuf-3.19.6-cp310-cp310-win_amd64.whl (895 kB)\n",
      "     -------------------------------------- 895.7/895.7 kB 5.6 MB/s eta 0:00:00\n",
      "Requirement already satisfied: h5py>=2.9.0 in c:\\users\\k\\anaconda3\\lib\\site-packages (from tensorflow<2.11,>=2.10.0->tensorflow_text) (3.7.0)\n",
      "Requirement already satisfied: keras<2.11,>=2.10.0 in c:\\users\\k\\anaconda3\\lib\\site-packages (from tensorflow<2.11,>=2.10.0->tensorflow_text) (2.10.0)\n",
      "Requirement already satisfied: numpy>=1.20 in c:\\users\\k\\anaconda3\\lib\\site-packages (from tensorflow<2.11,>=2.10.0->tensorflow_text) (1.23.5)\n",
      "Requirement already satisfied: grpcio<2.0,>=1.24.3 in c:\\users\\k\\anaconda3\\lib\\site-packages (from tensorflow<2.11,>=2.10.0->tensorflow_text) (1.48.2)\n",
      "Requirement already satisfied: wheel<1.0,>=0.23.0 in c:\\users\\k\\anaconda3\\lib\\site-packages (from astunparse>=1.6.0->tensorflow<2.11,>=2.10.0->tensorflow_text) (0.38.4)\n",
      "Requirement already satisfied: google-auth<3,>=1.6.3 in c:\\users\\k\\anaconda3\\lib\\site-packages (from tensorboard<2.11,>=2.10->tensorflow<2.11,>=2.10.0->tensorflow_text) (2.6.0)\n",
      "Requirement already satisfied: requests<3,>=2.21.0 in c:\\users\\k\\anaconda3\\lib\\site-packages (from tensorboard<2.11,>=2.10->tensorflow<2.11,>=2.10.0->tensorflow_text) (2.28.1)\n",
      "Requirement already satisfied: tensorboard-data-server<0.7.0,>=0.6.0 in c:\\users\\k\\anaconda3\\lib\\site-packages (from tensorboard<2.11,>=2.10->tensorflow<2.11,>=2.10.0->tensorflow_text) (0.6.1)\n",
      "Requirement already satisfied: werkzeug>=1.0.1 in c:\\users\\k\\anaconda3\\lib\\site-packages (from tensorboard<2.11,>=2.10->tensorflow<2.11,>=2.10.0->tensorflow_text) (2.2.2)\n",
      "Requirement already satisfied: markdown>=2.6.8 in c:\\users\\k\\anaconda3\\lib\\site-packages (from tensorboard<2.11,>=2.10->tensorflow<2.11,>=2.10.0->tensorflow_text) (3.4.1)\n",
      "Requirement already satisfied: google-auth-oauthlib<0.5,>=0.4.1 in c:\\users\\k\\anaconda3\\lib\\site-packages (from tensorboard<2.11,>=2.10->tensorflow<2.11,>=2.10.0->tensorflow_text) (0.4.4)\n",
      "Requirement already satisfied: tensorboard-plugin-wit>=1.6.0 in c:\\users\\k\\anaconda3\\lib\\site-packages (from tensorboard<2.11,>=2.10->tensorflow<2.11,>=2.10.0->tensorflow_text) (1.8.1)\n",
      "Requirement already satisfied: cachetools<6.0,>=2.0.0 in c:\\users\\k\\anaconda3\\lib\\site-packages (from google-auth<3,>=1.6.3->tensorboard<2.11,>=2.10->tensorflow<2.11,>=2.10.0->tensorflow_text) (4.2.2)\n",
      "Requirement already satisfied: pyasn1-modules>=0.2.1 in c:\\users\\k\\anaconda3\\lib\\site-packages (from google-auth<3,>=1.6.3->tensorboard<2.11,>=2.10->tensorflow<2.11,>=2.10.0->tensorflow_text) (0.2.8)\n",
      "Requirement already satisfied: rsa<5,>=3.1.4 in c:\\users\\k\\anaconda3\\lib\\site-packages (from google-auth<3,>=1.6.3->tensorboard<2.11,>=2.10->tensorflow<2.11,>=2.10.0->tensorflow_text) (4.7.2)\n",
      "Requirement already satisfied: requests-oauthlib>=0.7.0 in c:\\users\\k\\anaconda3\\lib\\site-packages (from google-auth-oauthlib<0.5,>=0.4.1->tensorboard<2.11,>=2.10->tensorflow<2.11,>=2.10.0->tensorflow_text) (1.3.0)\n",
      "Requirement already satisfied: idna<4,>=2.5 in c:\\users\\k\\anaconda3\\lib\\site-packages (from requests<3,>=2.21.0->tensorboard<2.11,>=2.10->tensorflow<2.11,>=2.10.0->tensorflow_text) (3.4)\n",
      "Requirement already satisfied: certifi>=2017.4.17 in c:\\users\\k\\anaconda3\\lib\\site-packages (from requests<3,>=2.21.0->tensorboard<2.11,>=2.10->tensorflow<2.11,>=2.10.0->tensorflow_text) (2023.7.22)\n",
      "Requirement already satisfied: urllib3<1.27,>=1.21.1 in c:\\users\\k\\anaconda3\\lib\\site-packages (from requests<3,>=2.21.0->tensorboard<2.11,>=2.10->tensorflow<2.11,>=2.10.0->tensorflow_text) (1.26.14)\n",
      "Requirement already satisfied: charset-normalizer<3,>=2 in c:\\users\\k\\anaconda3\\lib\\site-packages (from requests<3,>=2.21.0->tensorboard<2.11,>=2.10->tensorflow<2.11,>=2.10.0->tensorflow_text) (2.0.4)\n",
      "Requirement already satisfied: MarkupSafe>=2.1.1 in c:\\users\\k\\anaconda3\\lib\\site-packages (from werkzeug>=1.0.1->tensorboard<2.11,>=2.10->tensorflow<2.11,>=2.10.0->tensorflow_text) (2.1.1)\n",
      "Requirement already satisfied: pyasn1<0.5.0,>=0.4.6 in c:\\users\\k\\anaconda3\\lib\\site-packages (from pyasn1-modules>=0.2.1->google-auth<3,>=1.6.3->tensorboard<2.11,>=2.10->tensorflow<2.11,>=2.10.0->tensorflow_text) (0.4.8)\n",
      "Requirement already satisfied: oauthlib>=3.0.0 in c:\\users\\k\\anaconda3\\lib\\site-packages (from requests-oauthlib>=0.7.0->google-auth-oauthlib<0.5,>=0.4.1->tensorboard<2.11,>=2.10->tensorflow<2.11,>=2.10.0->tensorflow_text) (3.2.2)\n",
      "Installing collected packages: libclang, tensorflow-io-gcs-filesystem, protobuf, tensorflow_text\n",
      "  Attempting uninstall: protobuf\n",
      "    Found existing installation: protobuf 3.20.3\n",
      "    Uninstalling protobuf-3.20.3:\n",
      "      Successfully uninstalled protobuf-3.20.3\n",
      "Successfully installed libclang-16.0.6 protobuf-3.19.6 tensorflow-io-gcs-filesystem-0.31.0 tensorflow_text-2.10.0\n"
     ]
    }
   ],
   "source": [
    "!pip install --upgrade tensorflow_hub\n",
    "!pip install tensorflow_text"
   ]
  },
  {
   "cell_type": "code",
   "execution_count": 4,
   "id": "cc63136c",
   "metadata": {},
   "outputs": [],
   "source": [
    "import tensorflow as tf\n",
    "import tensorflow_hub as hub\n",
    "import tensorflow_text as text\n",
    "import pandas as pd\n",
    "import numpy as np"
   ]
  },
  {
   "cell_type": "code",
   "execution_count": 5,
   "id": "eaed7c79",
   "metadata": {},
   "outputs": [],
   "source": [
    "df = pd.read_csv(\"Suicide_Detection.csv\")"
   ]
  },
  {
   "cell_type": "code",
   "execution_count": 10,
   "id": "f9aff905",
   "metadata": {},
   "outputs": [],
   "source": [
    "df.drop(\"Unnamed: 0\", axis=1, inplace=True)"
   ]
  },
  {
   "cell_type": "code",
   "execution_count": 48,
   "id": "067c0bbf",
   "metadata": {},
   "outputs": [],
   "source": [
    "df_test = df.sample(10000, random_state=42)"
   ]
  },
  {
   "cell_type": "code",
   "execution_count": 18,
   "id": "301c79d5",
   "metadata": {},
   "outputs": [
    {
     "data": {
      "text/plain": [
       "non-suicide    15043\n",
       "suicide        14957\n",
       "Name: class, dtype: int64"
      ]
     },
     "execution_count": 18,
     "metadata": {},
     "output_type": "execute_result"
    }
   ],
   "source": [
    "df_test[\"class\"].value_counts()"
   ]
  },
  {
   "cell_type": "code",
   "execution_count": 19,
   "id": "072af26a",
   "metadata": {},
   "outputs": [
    {
     "data": {
      "text/html": [
       "<div>\n",
       "<style scoped>\n",
       "    .dataframe tbody tr th:only-of-type {\n",
       "        vertical-align: middle;\n",
       "    }\n",
       "\n",
       "    .dataframe tbody tr th {\n",
       "        vertical-align: top;\n",
       "    }\n",
       "\n",
       "    .dataframe thead th {\n",
       "        text-align: right;\n",
       "    }\n",
       "</style>\n",
       "<table border=\"1\" class=\"dataframe\">\n",
       "  <thead>\n",
       "    <tr style=\"text-align: right;\">\n",
       "      <th></th>\n",
       "      <th>text</th>\n",
       "      <th>class</th>\n",
       "    </tr>\n",
       "  </thead>\n",
       "  <tbody>\n",
       "    <tr>\n",
       "      <th>74414</th>\n",
       "      <td>I Don't know?7? Months self harm free and the ...</td>\n",
       "      <td>suicide</td>\n",
       "    </tr>\n",
       "    <tr>\n",
       "      <th>149516</th>\n",
       "      <td>I HAVE TO START BECOMING RICH I HAVE TO START ...</td>\n",
       "      <td>non-suicide</td>\n",
       "    </tr>\n",
       "    <tr>\n",
       "      <th>12484</th>\n",
       "      <td>A poem (haiku) for u/Me-Game-Dev hi, hello hel...</td>\n",
       "      <td>non-suicide</td>\n",
       "    </tr>\n",
       "    <tr>\n",
       "      <th>14043</th>\n",
       "      <td>I've honestly got no idea what to do anymore.I...</td>\n",
       "      <td>suicide</td>\n",
       "    </tr>\n",
       "    <tr>\n",
       "      <th>30673</th>\n",
       "      <td>Do you ever just cry? Like you just think abou...</td>\n",
       "      <td>non-suicide</td>\n",
       "    </tr>\n",
       "  </tbody>\n",
       "</table>\n",
       "</div>"
      ],
      "text/plain": [
       "                                                     text        class\n",
       "74414   I Don't know?7? Months self harm free and the ...      suicide\n",
       "149516  I HAVE TO START BECOMING RICH I HAVE TO START ...  non-suicide\n",
       "12484   A poem (haiku) for u/Me-Game-Dev hi, hello hel...  non-suicide\n",
       "14043   I've honestly got no idea what to do anymore.I...      suicide\n",
       "30673   Do you ever just cry? Like you just think abou...  non-suicide"
      ]
     },
     "execution_count": 19,
     "metadata": {},
     "output_type": "execute_result"
    }
   ],
   "source": [
    "df_test.head()"
   ]
  },
  {
   "cell_type": "code",
   "execution_count": 49,
   "id": "f441b3cd",
   "metadata": {},
   "outputs": [],
   "source": [
    "df_test[\"suicide\"] = np.where(df_test[\"class\"] == \"suicide\", 1, 0)"
   ]
  },
  {
   "cell_type": "code",
   "execution_count": 24,
   "id": "719f16cc",
   "metadata": {},
   "outputs": [
    {
     "data": {
      "text/html": [
       "<div>\n",
       "<style scoped>\n",
       "    .dataframe tbody tr th:only-of-type {\n",
       "        vertical-align: middle;\n",
       "    }\n",
       "\n",
       "    .dataframe tbody tr th {\n",
       "        vertical-align: top;\n",
       "    }\n",
       "\n",
       "    .dataframe thead th {\n",
       "        text-align: right;\n",
       "    }\n",
       "</style>\n",
       "<table border=\"1\" class=\"dataframe\">\n",
       "  <thead>\n",
       "    <tr style=\"text-align: right;\">\n",
       "      <th></th>\n",
       "      <th>text</th>\n",
       "      <th>class</th>\n",
       "      <th>suicide</th>\n",
       "    </tr>\n",
       "  </thead>\n",
       "  <tbody>\n",
       "    <tr>\n",
       "      <th>74414</th>\n",
       "      <td>I Don't know?7? Months self harm free and the ...</td>\n",
       "      <td>suicide</td>\n",
       "      <td>1</td>\n",
       "    </tr>\n",
       "    <tr>\n",
       "      <th>149516</th>\n",
       "      <td>I HAVE TO START BECOMING RICH I HAVE TO START ...</td>\n",
       "      <td>non-suicide</td>\n",
       "      <td>0</td>\n",
       "    </tr>\n",
       "    <tr>\n",
       "      <th>12484</th>\n",
       "      <td>A poem (haiku) for u/Me-Game-Dev hi, hello hel...</td>\n",
       "      <td>non-suicide</td>\n",
       "      <td>0</td>\n",
       "    </tr>\n",
       "    <tr>\n",
       "      <th>14043</th>\n",
       "      <td>I've honestly got no idea what to do anymore.I...</td>\n",
       "      <td>suicide</td>\n",
       "      <td>1</td>\n",
       "    </tr>\n",
       "    <tr>\n",
       "      <th>30673</th>\n",
       "      <td>Do you ever just cry? Like you just think abou...</td>\n",
       "      <td>non-suicide</td>\n",
       "      <td>0</td>\n",
       "    </tr>\n",
       "  </tbody>\n",
       "</table>\n",
       "</div>"
      ],
      "text/plain": [
       "                                                     text        class  \\\n",
       "74414   I Don't know?7? Months self harm free and the ...      suicide   \n",
       "149516  I HAVE TO START BECOMING RICH I HAVE TO START ...  non-suicide   \n",
       "12484   A poem (haiku) for u/Me-Game-Dev hi, hello hel...  non-suicide   \n",
       "14043   I've honestly got no idea what to do anymore.I...      suicide   \n",
       "30673   Do you ever just cry? Like you just think abou...  non-suicide   \n",
       "\n",
       "        suicide  \n",
       "74414         1  \n",
       "149516        0  \n",
       "12484         0  \n",
       "14043         1  \n",
       "30673         0  "
      ]
     },
     "execution_count": 24,
     "metadata": {},
     "output_type": "execute_result"
    }
   ],
   "source": [
    "df_test.head()"
   ]
  },
  {
   "cell_type": "code",
   "execution_count": 25,
   "id": "fa64297a",
   "metadata": {},
   "outputs": [],
   "source": [
    "preprocess_url = \"https://tfhub.dev/tensorflow/bert_en_uncased_preprocess/3\"\n",
    "encoder_url = \"https://tfhub.dev/tensorflow/bert_en_uncased_L-12_H-768_A-12/4\""
   ]
  },
  {
   "cell_type": "code",
   "execution_count": 26,
   "id": "0ac6de6d",
   "metadata": {},
   "outputs": [],
   "source": [
    "bert_preprocess = hub.KerasLayer(preprocess_url)\n",
    "bert_encoder = hub.KerasLayer(encoder_url)"
   ]
  },
  {
   "cell_type": "code",
   "execution_count": 27,
   "id": "4af21521",
   "metadata": {},
   "outputs": [],
   "source": [
    "def sentence_embedding(sentences):\n",
    "    \"\"\"cümleyi embedding yapan fonksiyon\n",
    "    \n",
    "    pooled_output: Girilen cümlenin gömülü vektörü 768 length\n",
    "    \n",
    "    \n",
    "    \"\"\"\n",
    "    preprocessed_text = bert_preprocess(sentences)\n",
    "    return bert_encoder(preprocessed_text)[\"pooled_output\"]"
   ]
  },
  {
   "cell_type": "code",
   "execution_count": 37,
   "id": "81dc5d33",
   "metadata": {},
   "outputs": [],
   "source": [
    "e = sentence_embedding([\"banana\",\n",
    "                       \"grapes\",\n",
    "                       \"mango\",\n",
    "                       \"jeff bezos\",\n",
    "                       \"elon musk\",\n",
    "                       \"bill gates\"])"
   ]
  },
  {
   "cell_type": "code",
   "execution_count": 38,
   "id": "1facacff",
   "metadata": {},
   "outputs": [
    {
     "data": {
      "text/plain": [
       "<tf.Tensor: shape=(6, 768), dtype=float32, numpy=\n",
       "array([[-0.76069176, -0.14219391,  0.49604627, ...,  0.42165327,\n",
       "        -0.5322141 ,  0.80312157],\n",
       "       [-0.8602321 , -0.21242921,  0.49156946, ...,  0.3979805 ,\n",
       "        -0.60506266,  0.84471637],\n",
       "       [-0.7128863 , -0.15463915,  0.38401607, ...,  0.35278717,\n",
       "        -0.50991344,  0.73474115],\n",
       "       [-0.82533467, -0.355506  , -0.5906974 , ..., -0.01613783,\n",
       "        -0.61417574,  0.87230283],\n",
       "       [-0.75041354, -0.26812634, -0.26689735, ...,  0.02839332,\n",
       "        -0.59381   ,  0.7974988 ],\n",
       "       [-0.78544366, -0.29949698,  0.41027397, ...,  0.5222541 ,\n",
       "        -0.4957355 ,  0.8150751 ]], dtype=float32)>"
      ]
     },
     "execution_count": 38,
     "metadata": {},
     "output_type": "execute_result"
    }
   ],
   "source": [
    "e"
   ]
  },
  {
   "cell_type": "code",
   "execution_count": 39,
   "id": "76a9bfd0",
   "metadata": {},
   "outputs": [
    {
     "data": {
      "text/plain": [
       "array([[0.9164159]], dtype=float32)"
      ]
     },
     "execution_count": 39,
     "metadata": {},
     "output_type": "execute_result"
    }
   ],
   "source": [
    "from sklearn.metrics.pairwise import cosine_similarity\n",
    "cosine_similarity([e[4]], [e[5]])"
   ]
  },
  {
   "cell_type": "code",
   "execution_count": 50,
   "id": "1d4415b1",
   "metadata": {},
   "outputs": [],
   "source": [
    "# Bert layers\n",
    "\n",
    "text_input = tf.keras.layers.Input(shape=(), dtype=tf.string, name=\"text\")\n",
    "preprocessed_text = bert_preprocess(text_input)\n",
    "outputs = bert_encoder(preprocessed_text)\n",
    "\n",
    "# Neural Network Layers\n",
    "\n",
    "layer = tf.keras.layers.Dropout(0.1, name=\"dropout\")(outputs[\"pooled_output\"])\n",
    "layer = tf.keras.layers.Dense(1, activation=\"sigmoid\", name=\"output\")(layer)\n",
    "\n",
    "# final model\n",
    "model = tf.keras.Model(inputs=[text_input], outputs=[layer])"
   ]
  },
  {
   "cell_type": "code",
   "execution_count": 51,
   "id": "15ef3fce",
   "metadata": {},
   "outputs": [
    {
     "name": "stdout",
     "output_type": "stream",
     "text": [
      "Model: \"model_1\"\n",
      "__________________________________________________________________________________________________\n",
      " Layer (type)                   Output Shape         Param #     Connected to                     \n",
      "==================================================================================================\n",
      " text (InputLayer)              [(None,)]            0           []                               \n",
      "                                                                                                  \n",
      " keras_layer (KerasLayer)       {'input_mask': (Non  0           ['text[0][0]']                   \n",
      "                                e, 128),                                                          \n",
      "                                 'input_type_ids':                                                \n",
      "                                (None, 128),                                                      \n",
      "                                 'input_word_ids':                                                \n",
      "                                (None, 128)}                                                      \n",
      "                                                                                                  \n",
      " keras_layer_1 (KerasLayer)     {'default': (None,   109482241   ['keras_layer[1][0]',            \n",
      "                                768),                             'keras_layer[1][1]',            \n",
      "                                 'encoder_outputs':               'keras_layer[1][2]']            \n",
      "                                 [(None, 128, 768),                                               \n",
      "                                 (None, 128, 768),                                                \n",
      "                                 (None, 128, 768),                                                \n",
      "                                 (None, 128, 768),                                                \n",
      "                                 (None, 128, 768),                                                \n",
      "                                 (None, 128, 768),                                                \n",
      "                                 (None, 128, 768),                                                \n",
      "                                 (None, 128, 768),                                                \n",
      "                                 (None, 128, 768),                                                \n",
      "                                 (None, 128, 768),                                                \n",
      "                                 (None, 128, 768),                                                \n",
      "                                 (None, 128, 768)],                                               \n",
      "                                 'pooled_output': (                                               \n",
      "                                None, 768),                                                       \n",
      "                                 'sequence_output':                                               \n",
      "                                 (None, 128, 768)}                                                \n",
      "                                                                                                  \n",
      " dropout (Dropout)              (None, 768)          0           ['keras_layer_1[1][13]']         \n",
      "                                                                                                  \n",
      " output (Dense)                 (None, 1)            769         ['dropout[0][0]']                \n",
      "                                                                                                  \n",
      "==================================================================================================\n",
      "Total params: 109,483,010\n",
      "Trainable params: 769\n",
      "Non-trainable params: 109,482,241\n",
      "__________________________________________________________________________________________________\n"
     ]
    }
   ],
   "source": [
    "model.summary()"
   ]
  },
  {
   "cell_type": "code",
   "execution_count": 52,
   "id": "148160c7",
   "metadata": {},
   "outputs": [],
   "source": [
    "METRICS = [\n",
    "      tf.keras.metrics.BinaryAccuracy(name='accuracy'),\n",
    "      tf.keras.metrics.Precision(name='precision'),\n",
    "      tf.keras.metrics.Recall(name='recall')\n",
    "]\n",
    "\n",
    "model.compile(optimizer='adam',\n",
    "              loss='binary_crossentropy',\n",
    "              metrics=METRICS)"
   ]
  },
  {
   "cell_type": "code",
   "execution_count": 53,
   "id": "acbc29e4",
   "metadata": {},
   "outputs": [],
   "source": [
    "X = df_test[\"text\"]\n",
    "y = df_test[\"suicide\"]\n",
    "from sklearn.model_selection import train_test_split\n",
    "X_train, X_test, y_train, y_test = train_test_split(X, y, test_size= 0.2, random_state=42)"
   ]
  },
  {
   "cell_type": "code",
   "execution_count": 55,
   "id": "3abc3838",
   "metadata": {},
   "outputs": [
    {
     "name": "stdout",
     "output_type": "stream",
     "text": [
      "Epoch 1/10\n",
      "8/8 [==============================] - 596s 74s/step - loss: 0.6474 - accuracy: 0.6323 - precision: 0.6034 - recall: 0.7673\n",
      "Epoch 2/10\n",
      "8/8 [==============================] - 591s 74s/step - loss: 0.6200 - accuracy: 0.6877 - precision: 0.7049 - recall: 0.6438\n",
      "Epoch 3/10\n",
      "8/8 [==============================] - 593s 74s/step - loss: 0.5968 - accuracy: 0.7222 - precision: 0.7033 - recall: 0.7670\n",
      "Epoch 4/10\n",
      "8/8 [==============================] - 591s 74s/step - loss: 0.5792 - accuracy: 0.7333 - precision: 0.7216 - recall: 0.7578\n",
      "Epoch 5/10\n",
      "8/8 [==============================] - 590s 74s/step - loss: 0.5603 - accuracy: 0.7492 - precision: 0.7404 - recall: 0.7660\n",
      "Epoch 6/10\n",
      "8/8 [==============================] - 591s 74s/step - loss: 0.5496 - accuracy: 0.7548 - precision: 0.7428 - recall: 0.7778\n",
      "Epoch 7/10\n",
      "8/8 [==============================] - 590s 74s/step - loss: 0.5373 - accuracy: 0.7632 - precision: 0.7491 - recall: 0.7903\n",
      "Epoch 8/10\n",
      "8/8 [==============================] - 592s 74s/step - loss: 0.5272 - accuracy: 0.7684 - precision: 0.7673 - recall: 0.7690\n",
      "Epoch 9/10\n",
      "8/8 [==============================] - 591s 74s/step - loss: 0.5128 - accuracy: 0.7778 - precision: 0.7633 - recall: 0.8039\n",
      "Epoch 10/10\n",
      "8/8 [==============================] - 592s 74s/step - loss: 0.5058 - accuracy: 0.7865 - precision: 0.7817 - recall: 0.7938\n"
     ]
    },
    {
     "data": {
      "text/plain": [
       "<keras.callbacks.History at 0x2456984d9f0>"
      ]
     },
     "execution_count": 55,
     "metadata": {},
     "output_type": "execute_result"
    }
   ],
   "source": [
    "model.fit(X_train, y_train, epochs=10, batch_size=1000)"
   ]
  },
  {
   "cell_type": "code",
   "execution_count": 113,
   "id": "7516c602",
   "metadata": {},
   "outputs": [
    {
     "data": {
      "text/plain": [
       "2000"
      ]
     },
     "execution_count": 113,
     "metadata": {},
     "output_type": "execute_result"
    }
   ],
   "source": [
    "len(X_test)"
   ]
  },
  {
   "cell_type": "code",
   "execution_count": 58,
   "id": "a85aa1af",
   "metadata": {},
   "outputs": [
    {
     "name": "stdout",
     "output_type": "stream",
     "text": [
      "63/63 [==============================] - 182s 3s/step - loss: 0.5031 - accuracy: 0.7980 - precision: 0.7825 - recall: 0.8021\n"
     ]
    },
    {
     "data": {
      "text/plain": [
       "[0.5031064748764038,\n",
       " 0.7979999780654907,\n",
       " 0.7825203537940979,\n",
       " 0.8020833134651184]"
      ]
     },
     "execution_count": 58,
     "metadata": {},
     "output_type": "execute_result"
    }
   ],
   "source": [
    "model.evaluate(X_test, y_test)"
   ]
  },
  {
   "cell_type": "code",
   "execution_count": 59,
   "id": "1738fca7",
   "metadata": {},
   "outputs": [],
   "source": [
    "model.save('base_model.keras')"
   ]
  },
  {
   "cell_type": "code",
   "execution_count": 60,
   "id": "c116b839",
   "metadata": {},
   "outputs": [
    {
     "name": "stdout",
     "output_type": "stream",
     "text": [
      "63/63 [==============================] - 186s 3s/step\n"
     ]
    }
   ],
   "source": [
    "y_pred = model.predict(X_test)"
   ]
  },
  {
   "cell_type": "code",
   "execution_count": 62,
   "id": "20e10c43",
   "metadata": {},
   "outputs": [
    {
     "data": {
      "text/plain": [
       "array([[0.6908078 ],\n",
       "       [0.17345595],\n",
       "       [0.7064164 ],\n",
       "       ...,\n",
       "       [0.7734686 ],\n",
       "       [0.70560515],\n",
       "       [0.52503836]], dtype=float32)"
      ]
     },
     "execution_count": 62,
     "metadata": {},
     "output_type": "execute_result"
    }
   ],
   "source": [
    "y_pred"
   ]
  },
  {
   "cell_type": "code",
   "execution_count": 75,
   "id": "ab53faa4",
   "metadata": {},
   "outputs": [
    {
     "data": {
      "text/plain": [
       "array(['Could use a hugEveryday i look at mom’s sweet happy face and think of how much i want to die ..every morning i wake up with the burden of being alive , all i want is to disappear completely but it’s only gonna destroy her. I’m very young yet so damn lonely, i really wish i can be heard'],\n",
       "      dtype=object)"
      ]
     },
     "execution_count": 75,
     "metadata": {},
     "output_type": "execute_result"
    }
   ],
   "source": [
    "df[df[\"class\"] == \"suicide\"][\"text\"].sample(1).values"
   ]
  },
  {
   "cell_type": "code",
   "execution_count": 76,
   "id": "e879ea97",
   "metadata": {},
   "outputs": [
    {
     "name": "stdout",
     "output_type": "stream",
     "text": [
      "1/1 [==============================] - 0s 131ms/step\n"
     ]
    },
    {
     "data": {
      "text/plain": [
       "array([[0.7890031]], dtype=float32)"
      ]
     },
     "execution_count": 76,
     "metadata": {},
     "output_type": "execute_result"
    }
   ],
   "source": [
    "tahmin = [\"Could use a hugEveryday i look at mom’s sweet happy face and think of how much i want to die ..every morning i wake up with the burden of being alive , all i want is to disappear completely but it’s only gonna destroy her. I’m very young yet so damn lonely, i really wish i can be heard\"]\n",
    "\n",
    "model.predict(tahmin)"
   ]
  },
  {
   "cell_type": "code",
   "execution_count": 77,
   "id": "324cf92b",
   "metadata": {},
   "outputs": [
    {
     "data": {
      "text/plain": [
       "array(['Did you ever realize?That nobody in your life actually gives a fuck about you? Not one person genuinely cares or makes an effort of any way towards your relationship or friendship? That while you’re sure they would cry if you killed yourself, they would soon get over it and move on, because despite the love and connection you feel towards them, nobody feels that way towards you? Despite the lengths you would go for anybody and everybody at all, nobody would so much as cross a shallow puddle to make you feel welcomed on this earth. \\n\\nCause yeah folks, that sucks.'],\n",
       "      dtype=object)"
      ]
     },
     "execution_count": 77,
     "metadata": {},
     "output_type": "execute_result"
    }
   ],
   "source": [
    "df[df[\"class\"] == \"suicide\"][\"text\"].sample(1).values"
   ]
  },
  {
   "cell_type": "code",
   "execution_count": 80,
   "id": "f9422e09",
   "metadata": {},
   "outputs": [
    {
     "name": "stdout",
     "output_type": "stream",
     "text": [
      "1/1 [==============================] - 0s 141ms/step\n"
     ]
    },
    {
     "data": {
      "text/plain": [
       "array([[0.7196343]], dtype=float32)"
      ]
     },
     "execution_count": 80,
     "metadata": {},
     "output_type": "execute_result"
    }
   ],
   "source": [
    "tahmin2 = [\"Did you ever realize?That nobody in your life actually gives a fuck about you? Not one person genuinely cares or makes an effort of any way towards your relationship or friendship? That while you’re sure they would cry if you killed yourself, they would soon get over it and move on, because despite the love and connection you feel towards them, nobody feels that way towards you? Despite the lengths you would go for anybody and everybody at all, nobody would so much as cross a shallow puddle to make you feel welcomed on this earth. \\n\\nCause yeah folks, that sucks.\"]\n",
    "model.predict(tahmin2)"
   ]
  },
  {
   "cell_type": "code",
   "execution_count": 85,
   "id": "55fb1032",
   "metadata": {},
   "outputs": [
    {
     "data": {
      "text/plain": [
       "array(['How to get a girlfriend (from a girl) now that you’re here...\\n\\nget your ass off of reddit and do your homework'],\n",
       "      dtype=object)"
      ]
     },
     "execution_count": 85,
     "metadata": {},
     "output_type": "execute_result"
    }
   ],
   "source": [
    "df[df[\"class\"] == \"non-suicide\"][\"text\"].sample(1).values"
   ]
  },
  {
   "cell_type": "code",
   "execution_count": 86,
   "id": "785bbc4d",
   "metadata": {},
   "outputs": [
    {
     "name": "stdout",
     "output_type": "stream",
     "text": [
      "1/1 [==============================] - 0s 143ms/step\n"
     ]
    },
    {
     "data": {
      "text/plain": [
       "array([[0.3742782]], dtype=float32)"
      ]
     },
     "execution_count": 86,
     "metadata": {},
     "output_type": "execute_result"
    }
   ],
   "source": [
    "tahmin3 = [\"How to get a girlfriend (from a girl) now that you’re here...\\n\\nget your ass off of reddit and do your homework\"]\n",
    "model.predict(tahmin3)"
   ]
  },
  {
   "cell_type": "code",
   "execution_count": 91,
   "id": "8688ef75",
   "metadata": {},
   "outputs": [
    {
     "name": "stdout",
     "output_type": "stream",
     "text": [
      "1/1 [==============================] - 0s 151ms/step\n"
     ]
    },
    {
     "data": {
      "text/plain": [
       "array([[0.7776913]], dtype=float32)"
      ]
     },
     "execution_count": 91,
     "metadata": {},
     "output_type": "execute_result"
    }
   ],
   "source": [
    "tahmin4 = [\"I've never been happy. I never had real friends that didn't take advantage of me or abuse me. Never had hobbies I enjoyed. I've never enjoyed music, I don't enjoy food. Being around other people and animals make me feel worse. Nothing helps. Everything I do or try just makes me feel worse. I hate living, I hate life. I hate existence as a whole. I haven't gone a day in years without thinking about how much I wish I didn't exist. The only person who never gave up was my mom, but she's not equipped for this. I've tried therapy, I've tried medication. I've tried finding hobbies but nothing sticks. Nothing is enjoyable. I hate living like this, but I have no experience feeling anything else. I dropped out of middle school, and I don't want to continue my education. I don't even want to be a part of society. I wish I was never born. Fuck everything\"]\n",
    "model.predict(tahmin4)"
   ]
  },
  {
   "cell_type": "code",
   "execution_count": 95,
   "id": "4ee6b7cb",
   "metadata": {},
   "outputs": [
    {
     "name": "stdout",
     "output_type": "stream",
     "text": [
      "1/1 [==============================] - 0s 138ms/step\n"
     ]
    },
    {
     "data": {
      "text/plain": [
       "array([[0.47899464]], dtype=float32)"
      ]
     },
     "execution_count": 95,
     "metadata": {},
     "output_type": "execute_result"
    }
   ],
   "source": [
    "tahmin4 = [\"I hate my life because I dont have any friends, my parents do not love me and i think i am a disgust person. Why should I live?\"]\n",
    "model.predict(tahmin4)"
   ]
  },
  {
   "cell_type": "code",
   "execution_count": 100,
   "id": "fe814f3a",
   "metadata": {},
   "outputs": [
    {
     "name": "stdout",
     "output_type": "stream",
     "text": [
      "1/1 [==============================] - 0s 164ms/step\n"
     ]
    },
    {
     "data": {
      "text/plain": [
       "array([[0.40010777]], dtype=float32)"
      ]
     },
     "execution_count": 100,
     "metadata": {},
     "output_type": "execute_result"
    }
   ],
   "source": [
    "tahmin5 = [\"I am so happy right now. I feel like nothing . My life is goin well :)\"]\n",
    "model.predict(tahmin5)"
   ]
  },
  {
   "cell_type": "code",
   "execution_count": 97,
   "id": "ccb0ff33",
   "metadata": {},
   "outputs": [
    {
     "name": "stdout",
     "output_type": "stream",
     "text": [
      "1/1 [==============================] - 0s 150ms/step\n"
     ]
    },
    {
     "data": {
      "text/plain": [
       "array([[0.5841863]], dtype=float32)"
      ]
     },
     "execution_count": 97,
     "metadata": {},
     "output_type": "execute_result"
    }
   ],
   "source": [
    "tahmin6 = [\"im not really living. im hanging on by a thread. the heading is true and i havent washed my hair in longer. im disgusting and i hate myself so much. my hair is a matted mess and i want to shave my head so bad but ive shaved my head before to get rid of lice and i looked terrible for a year while it grew back. i just want to die so i dont have to deal with it. these feeling always pass after a few weeks but idk if i can survive this time. it sucks too because nothing is going wrong and its my dogs 4th birthday in a week and a half and we got a house after living in the worst apartment ever for years. i just dont know what to do. i stopped going to school in 8th grade so i have no future. im trying to get ssi (disability for ppl who havent worked basically) but i know they wont accept me because mental health isnt taken seriously so i dont have any money. im sorry this is probably all over the place im just typing. i just want to die. i feel it would help my family so much because i eat so much food. ugh idk why im doing this i guess im trying to keep myself occupied so i dont do anything. bye i guess\"]\n",
    "model.predict(tahmin6)"
   ]
  },
  {
   "cell_type": "code",
   "execution_count": 98,
   "id": "002ebef1",
   "metadata": {},
   "outputs": [
    {
     "name": "stdout",
     "output_type": "stream",
     "text": [
      "1/1 [==============================] - 0s 145ms/step\n"
     ]
    },
    {
     "data": {
      "text/plain": [
       "array([[0.76421094]], dtype=float32)"
      ]
     },
     "execution_count": 98,
     "metadata": {},
     "output_type": "execute_result"
    }
   ],
   "source": [
    "tahmin7 = [\"my boyfriend, best friend, love of my life committed suicide last month. and i genuinely feel like i can’t be here without him. like i’m not supposed to be. everyone else who grieves him has a partner to go to, they feel like they’re supposed to keep living and figure this out. but i don’t. he was my everything. i don’t want this life anymore. everyone is sad for me but they truly do not understand. i struggled before i met him but when i met him it was like this is it. he’s the reason i’m here. and with him gone i have no reason. i keep praying for some car accident or illness or event to happen to me to take me because then no one can say i did it to myself. i feel like i’m being held hostage here for everyone else’s sake. and no one knew me like him so they don’t understand that this is something i’ve struggled with for years and years. his leaving is just an anvil of pain on top of everything. i feel like i’m terminally ill and they’re keeping me plugged up so they don’t have to deal with my death yet. the few people who do check on me offer help but i’m past help. nothing comforts me.\"]\n",
    "model.predict(tahmin7)"
   ]
  },
  {
   "cell_type": "code",
   "execution_count": 101,
   "id": "1617ddd2",
   "metadata": {},
   "outputs": [
    {
     "name": "stdout",
     "output_type": "stream",
     "text": [
      "1/1 [==============================] - 0s 161ms/step\n"
     ]
    },
    {
     "data": {
      "text/plain": [
       "array([[0.76421094]], dtype=float32)"
      ]
     },
     "execution_count": 101,
     "metadata": {},
     "output_type": "execute_result"
    }
   ],
   "source": [
    "tahmin8 = [\"my boyfriend, best friend, love of my life committed suicide last month. and i genuinely feel like i can’t be here without him. like i’m not supposed to be. everyone else who grieves him has a partner to go to, they feel like they’re supposed to keep living and figure this out. but i don’t. he was my everything. i don’t want this life anymore. everyone is sad for me but they truly do not understand. i struggled before i met him but when i met him it was like this is it. he’s the reason i’m here. and with him gone i have no reason. i keep praying for some car accident or illness or event to happen to me to take me because then no one can say i did it to myself. i feel like i’m being held hostage here for everyone else’s sake. and no one knew me like him so they don’t understand that this is something i’ve struggled with for years and years. his leaving is just an anvil of pain on top of everything. i feel like i’m terminally ill and they’re keeping me plugged up so they don’t have to deal with my death yet. the few people who do check on me offer help but i’m past help. nothing comforts me.\"]\n",
    "model.predict(tahmin8)"
   ]
  },
  {
   "cell_type": "code",
   "execution_count": 102,
   "id": "b4c538a3",
   "metadata": {},
   "outputs": [
    {
     "name": "stdout",
     "output_type": "stream",
     "text": [
      "1/1 [==============================] - 0s 164ms/step\n"
     ]
    },
    {
     "data": {
      "text/plain": [
       "array([[0.7776913]], dtype=float32)"
      ]
     },
     "execution_count": 102,
     "metadata": {},
     "output_type": "execute_result"
    }
   ],
   "source": [
    "tahmin8 = [\"I've never been happy. I never had real friends that didn't take advantage of me or abuse me. Never had hobbies I enjoyed. I've never enjoyed music, I don't enjoy food. Being around other people and animals make me feel worse. Nothing helps. Everything I do or try just makes me feel worse. I hate living, I hate life. I hate existence as a whole. I haven't gone a day in years without thinking about how much I wish I didn't exist. The only person who never gave up was my mom, but she's not equipped for this. I've tried therapy, I've tried medication. I've tried finding hobbies but nothing sticks. Nothing is enjoyable. I hate living like this, but I have no experience feeling anything else. I dropped out of middle school, and I don't want to continue my education. I don't even want to be a part of society. I wish I was never born. Fuck everything.\"]\n",
    "model.predict(tahmin8)"
   ]
  },
  {
   "cell_type": "code",
   "execution_count": 109,
   "id": "fe08131c",
   "metadata": {},
   "outputs": [
    {
     "name": "stdout",
     "output_type": "stream",
     "text": [
      "1/1 [==============================] - 0s 172ms/step\n"
     ]
    },
    {
     "data": {
      "text/plain": [
       "array([[0.6552784]], dtype=float32)"
      ]
     },
     "execution_count": 109,
     "metadata": {},
     "output_type": "execute_result"
    }
   ],
   "source": [
    "tahmin9 = [\"I dont want to continue like this, life has no meaning , i cannot handle all these stress, i am a failure, i think i may be dead in one month\"]\n",
    "model.predict(tahmin9)"
   ]
  }
 ],
 "metadata": {
  "kernelspec": {
   "display_name": "Python 3 (ipykernel)",
   "language": "python",
   "name": "python3"
  },
  "language_info": {
   "codemirror_mode": {
    "name": "ipython",
    "version": 3
   },
   "file_extension": ".py",
   "mimetype": "text/x-python",
   "name": "python",
   "nbconvert_exporter": "python",
   "pygments_lexer": "ipython3",
   "version": "3.11.4"
  }
 },
 "nbformat": 4,
 "nbformat_minor": 5
}
